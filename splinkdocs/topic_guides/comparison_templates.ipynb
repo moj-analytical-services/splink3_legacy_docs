{
 "cells": [
  {
   "attachments": {},
   "cell_type": "markdown",
   "metadata": {},
   "source": [
    "# Out-of-the-box Comparisons for specific data types\n",
    "\n",
    "Similarity is defined differently for types of data (e.g. names, dates of birth, postcodes, addresses, ids). The [Comparison Template Library](customising_comparisons.ipynb#method-2-using-the-comparisontemplatelibrary) contains functions to generate ready-made comparisons for a variety of data types.\n",
    "\n",
    "Below are examples of how to structure comparisons for a variety of data types.\n",
    "\n",
    "<hr>"
   ]
  },
  {
   "attachments": {},
   "cell_type": "markdown",
   "metadata": {},
   "source": [
    "## Date Comparisons\n",
    "\n",
    "Date comparisons are generally structured as: \n",
    "\n",
    "- Null level  \n",
    "- Exact match  \n",
    "- Fuzzy match ([using metric of choice](comparators.md))  \n",
    "- Interval match (within X days/months/years)  \n",
    "- Else level\n",
    "\n",
    "The [comparison_template_library](../comparison_template_library.md#splink.comparison_template_library) contains the [date_comparison](../comparison_template_library.md##splink.comparison_template_library.DateComparisonBase) function which gives this structure, with some pre-defined parameters, out-of-the-box."
   ]
  },
  {
   "cell_type": "code",
   "execution_count": 1,
   "metadata": {},
   "outputs": [],
   "source": [
    "from splink.duckdb.comparison_template_library import date_comparison\n",
    "\n",
    "date_of_birth_comparison = date_comparison(\"date_of_birth\")"
   ]
  },
  {
   "attachments": {},
   "cell_type": "markdown",
   "metadata": {},
   "source": [
    "Gives a comparison structured as follows:\n",
    "\n",
    "```\n",
    "Comparison: Date of birth\n",
    "├─-- ComparisonLevel: Exact match\n",
    "├─-- ComparisonLevel: Up to one character difference\n",
    "├─-- ComparisonLevel: Dates within 1 month of each other\n",
    "├─-- ComparisonLevel: Dates within 1 year of each other\n",
    "├─-- ComparisonLevel: Dates within 10 years of each other\n",
    "├─-- ComparisonLevel: All other\n",
    "```\n",
    "\n",
    "Or, using `human_readable_description` to generate automatically from `date_of_birth_comparison`:"
   ]
  },
  {
   "cell_type": "code",
   "execution_count": 2,
   "metadata": {},
   "outputs": [
    {
     "name": "stdout",
     "output_type": "stream",
     "text": [
      "Comparison 'Exact match vs. Date_Of_Birth within damerau-levenshtein threshold 1 vs. Dates within the following thresholds Month(s): 1, Year(s): 1, Year(s): 10 vs. anything else' of \"date_of_birth\".\n",
      "Similarity is assessed using the following ComparisonLevels:\n",
      "    - 'Null' with SQL rule: \"date_of_birth_l\" IS NULL OR \"date_of_birth_r\" IS NULL\n",
      "    - 'Exact match' with SQL rule: \"date_of_birth_l\" = \"date_of_birth_r\"\n",
      "    - 'Damerau_levenshtein <= 1' with SQL rule: damerau_levenshtein(\"date_of_birth_l\", \"date_of_birth_r\") <= 1\n",
      "    - 'Within 1 month' with SQL rule: \n",
      "            abs(date_diff('month', \"date_of_birth_l\",\n",
      "              \"date_of_birth_r\")) <= 1\n",
      "        \n",
      "    - 'Within 1 year' with SQL rule: \n",
      "            abs(date_diff('year', \"date_of_birth_l\",\n",
      "              \"date_of_birth_r\")) <= 1\n",
      "        \n",
      "    - 'Within 10 years' with SQL rule: \n",
      "            abs(date_diff('year', \"date_of_birth_l\",\n",
      "              \"date_of_birth_r\")) <= 10\n",
      "        \n",
      "    - 'All other comparisons' with SQL rule: ELSE\n",
      "\n"
     ]
    }
   ],
   "source": [
    "print(date_of_birth_comparison.human_readable_description)"
   ]
  },
  {
   "attachments": {},
   "cell_type": "markdown",
   "metadata": {},
   "source": [
    "The [date_comparison](../comparison_template_library.md##splink.comparison_template_library.DateComparisonBase) function also allows the user flexibility to change the parameters and/or fuzzy matching comparison levels.\n",
    "\n",
    "For example:"
   ]
  },
  {
   "cell_type": "code",
   "execution_count": 3,
   "metadata": {},
   "outputs": [
    {
     "name": "stdout",
     "output_type": "stream",
     "text": [
      "Comparison 'Exact match vs. Date_Of_Birth within levenshtein threshold 2 vs. Dates within the following thresholds Day(s): 7, Month(s): 1, Year(s): 1 vs. anything else' of \"date_of_birth\".\n",
      "Similarity is assessed using the following ComparisonLevels:\n",
      "    - 'Null' with SQL rule: \"date_of_birth_l\" IS NULL OR \"date_of_birth_r\" IS NULL\n",
      "    - 'Exact match' with SQL rule: \"date_of_birth_l\" = \"date_of_birth_r\"\n",
      "    - 'Levenshtein <= 2' with SQL rule: levenshtein(\"date_of_birth_l\", \"date_of_birth_r\") <= 2\n",
      "    - 'Within 7 days' with SQL rule: \n",
      "            abs(date_diff('day', \"date_of_birth_l\",\n",
      "              \"date_of_birth_r\")) <= 7\n",
      "        \n",
      "    - 'Within 1 month' with SQL rule: \n",
      "            abs(date_diff('month', \"date_of_birth_l\",\n",
      "              \"date_of_birth_r\")) <= 1\n",
      "        \n",
      "    - 'Within 1 year' with SQL rule: \n",
      "            abs(date_diff('year', \"date_of_birth_l\",\n",
      "              \"date_of_birth_r\")) <= 1\n",
      "        \n",
      "    - 'All other comparisons' with SQL rule: ELSE\n",
      "\n"
     ]
    }
   ],
   "source": [
    "date_of_birth_comparison = date_comparison(\n",
    "    \"date_of_birth\",\n",
    "    levenshtein_thresholds=[2],\n",
    "    damerau_levenshtein_thresholds=[],\n",
    "    datediff_thresholds=[7, 1, 1],\n",
    "    datediff_metrics=[\"day\", \"month\", \"year\"],\n",
    ")\n",
    "print(date_of_birth_comparison.human_readable_description)"
   ]
  },
  {
   "attachments": {},
   "cell_type": "markdown",
   "metadata": {},
   "source": [
    "To see this as a specifications dictionary you can call"
   ]
  },
  {
   "cell_type": "code",
   "execution_count": 4,
   "metadata": {},
   "outputs": [
    {
     "data": {
      "text/plain": [
       "{'output_column_name': 'date_of_birth',\n",
       " 'comparison_levels': [{'sql_condition': '\"date_of_birth_l\" IS NULL OR \"date_of_birth_r\" IS NULL',\n",
       "   'label_for_charts': 'Null',\n",
       "   'is_null_level': True},\n",
       "  {'sql_condition': '\"date_of_birth_l\" = \"date_of_birth_r\"',\n",
       "   'label_for_charts': 'Exact match'},\n",
       "  {'sql_condition': 'levenshtein(\"date_of_birth_l\", \"date_of_birth_r\") <= 2',\n",
       "   'label_for_charts': 'Levenshtein <= 2'},\n",
       "  {'sql_condition': '\\n            abs(date_diff(\\'day\\', \"date_of_birth_l\",\\n              \"date_of_birth_r\")) <= 7\\n        ',\n",
       "   'label_for_charts': 'Within 7 days'},\n",
       "  {'sql_condition': '\\n            abs(date_diff(\\'month\\', \"date_of_birth_l\",\\n              \"date_of_birth_r\")) <= 1\\n        ',\n",
       "   'label_for_charts': 'Within 1 month'},\n",
       "  {'sql_condition': '\\n            abs(date_diff(\\'year\\', \"date_of_birth_l\",\\n              \"date_of_birth_r\")) <= 1\\n        ',\n",
       "   'label_for_charts': 'Within 1 year'},\n",
       "  {'sql_condition': 'ELSE', 'label_for_charts': 'All other comparisons'}],\n",
       " 'comparison_description': 'Exact match vs. Date_Of_Birth within levenshtein threshold 2 vs. Dates within the following thresholds Day(s): 7, Month(s): 1, Year(s): 1 vs. anything else'}"
      ]
     },
     "execution_count": 4,
     "metadata": {},
     "output_type": "execute_result"
    }
   ],
   "source": [
    "date_of_birth_comparison.as_dict()"
   ]
  },
  {
   "attachments": {},
   "cell_type": "markdown",
   "metadata": {},
   "source": [
    "which can be used as the basis for a more custom comparison, as shown in the [Defining and Customising Comparisons topic guide ](customising_comparisons.ipynb#method-4-providing-the-spec-as-a-dictionary), if desired.\n",
    "\n",
    "<hr>"
   ]
  },
  {
   "attachments": {},
   "cell_type": "markdown",
   "metadata": {},
   "source": [
    "## Name Comparisons\n",
    "\n",
    "Name comparisons for an individual name column (e.g. forename, surname) are generally structured as: \n",
    "\n",
    "- Null level  \n",
    "- Exact match  \n",
    "- Fuzzy match ([using metric of choice](comparators.md))  \n",
    "- Else level\n",
    "\n",
    "The [comparison_template_library](../comparison_template_library.md##splink.comparison_template_library) contains the [name_comparison](../comparison_template_library.md#splink.comparison_template_library.NameComparisonBase) function which gives this structure, with some pre-defined parameters, out-of-the-box."
   ]
  },
  {
   "cell_type": "code",
   "execution_count": 5,
   "metadata": {},
   "outputs": [],
   "source": [
    "from splink.duckdb.comparison_template_library import name_comparison\n",
    "\n",
    "first_name_comparison = name_comparison(\"first_name\")"
   ]
  },
  {
   "attachments": {},
   "cell_type": "markdown",
   "metadata": {},
   "source": [
    "Gives a comparison structured as follows:\n",
    "\n",
    "```\n",
    "Comparison: First Name\n",
    "├─-- ComparisonLevel: Exact match\n",
    "├─-- ComparisonLevel: Up to one character difference\n",
    "├─-- ComparisonLevel: First Names with Jaro-Winkler similarity of 0.9 or greater \n",
    "├─-- ComparisonLevel: First Names with Jaro-Winkler similarity of 0.8 or greater\n",
    "├─-- ComparisonLevel: All other\n",
    "```\n",
    "\n",
    "Or, using `human_readable_description` to generate automatically from `first_name_comparison`:"
   ]
  },
  {
   "cell_type": "code",
   "execution_count": 6,
   "metadata": {},
   "outputs": [
    {
     "name": "stdout",
     "output_type": "stream",
     "text": [
      "Comparison 'Exact match vs. First_Name within levenshtein threshold 1 vs. First_Name within damerau-levenshtein threshold 1 vs. First_Name within jaro_winkler thresholds 0.9, 0.8 vs. anything else' of \"first_name\".\n",
      "Similarity is assessed using the following ComparisonLevels:\n",
      "    - 'Null' with SQL rule: \"first_name_l\" IS NULL OR \"first_name_r\" IS NULL\n",
      "    - 'Exact match first_name' with SQL rule: \"first_name_l\" = \"first_name_r\"\n",
      "    - 'Damerau_levenshtein <= 1' with SQL rule: damerau_levenshtein(\"first_name_l\", \"first_name_r\") <= 1\n",
      "    - 'Jaro_winkler_similarity >= 0.9' with SQL rule: jaro_winkler_similarity(\"first_name_l\", \"first_name_r\") >= 0.9\n",
      "    - 'Jaro_winkler_similarity >= 0.8' with SQL rule: jaro_winkler_similarity(\"first_name_l\", \"first_name_r\") >= 0.8\n",
      "    - 'All other comparisons' with SQL rule: ELSE\n",
      "\n"
     ]
    }
   ],
   "source": [
    "print(first_name_comparison.human_readable_description)"
   ]
  },
  {
   "attachments": {},
   "cell_type": "markdown",
   "metadata": {},
   "source": [
    "The [name_comparison](../comparison_template_library.md#splink.comparison_template_library.NameComparisonBase) function also allows flexibility to change the parameters and/or fuzzy matching comparison levels.\n",
    "\n",
    "For example:"
   ]
  },
  {
   "cell_type": "code",
   "execution_count": 7,
   "metadata": {},
   "outputs": [
    {
     "name": "stdout",
     "output_type": "stream",
     "text": [
      "Comparison 'Exact match vs. Names with phonetic exact match vs. Surname within levenshtein threshold 2 vs. Surname within jaccard threshold 1 vs. anything else' of \"surname\" and \"surname_dm\".\n",
      "Similarity is assessed using the following ComparisonLevels:\n",
      "    - 'Null' with SQL rule: \"surname_l\" IS NULL OR \"surname_r\" IS NULL\n",
      "    - 'Exact match surname' with SQL rule: \"surname_l\" = \"surname_r\"\n",
      "    - 'Exact match surname_dm' with SQL rule: \"surname_dm_l\" = \"surname_dm_r\"\n",
      "    - 'Levenshtein <= 2' with SQL rule: levenshtein(\"surname_l\", \"surname_r\") <= 2\n",
      "    - 'Jaccard >= 1' with SQL rule: jaccard(\"surname_l\", \"surname_r\") >= 1\n",
      "    - 'All other comparisons' with SQL rule: ELSE\n",
      "\n"
     ]
    }
   ],
   "source": [
    "surname_comparison = name_comparison(\n",
    "    \"surname\",\n",
    "    phonetic_col_name=\"surname_dm\",\n",
    "    term_frequency_adjustments=True,\n",
    "    levenshtein_thresholds=[2],\n",
    "    damerau_levenshtein_thresholds=[],\n",
    "    jaro_winkler_thresholds=[],\n",
    "    jaccard_thresholds=[1],\n",
    ")\n",
    "print(surname_comparison.human_readable_description)"
   ]
  },
  {
   "attachments": {},
   "cell_type": "markdown",
   "metadata": {},
   "source": [
    "Where `surname_dm` refers to a column which has used the DoubleMetaphone algorithm on `surname` to give a phonetic spelling. This helps to catch names which sounds the same but have different spellings (e.g. Stephens vs Stevens). For more on Phonetic Transformations, see the [topic guide](phonetic.md)."
   ]
  },
  {
   "attachments": {},
   "cell_type": "markdown",
   "metadata": {},
   "source": [
    "To see this as a specifications dictionary you can call"
   ]
  },
  {
   "cell_type": "code",
   "execution_count": 8,
   "metadata": {},
   "outputs": [
    {
     "data": {
      "text/plain": [
       "{'output_column_name': 'custom_surname_surname_dm',\n",
       " 'comparison_levels': [{'sql_condition': '\"surname_l\" IS NULL OR \"surname_r\" IS NULL',\n",
       "   'label_for_charts': 'Null',\n",
       "   'is_null_level': True},\n",
       "  {'sql_condition': '\"surname_l\" = \"surname_r\"',\n",
       "   'label_for_charts': 'Exact match surname',\n",
       "   'tf_adjustment_column': 'surname',\n",
       "   'tf_adjustment_weight': 1.0},\n",
       "  {'sql_condition': '\"surname_dm_l\" = \"surname_dm_r\"',\n",
       "   'label_for_charts': 'Exact match surname_dm',\n",
       "   'tf_adjustment_column': 'surname_dm',\n",
       "   'tf_adjustment_weight': 1.0},\n",
       "  {'sql_condition': 'levenshtein(\"surname_l\", \"surname_r\") <= 2',\n",
       "   'label_for_charts': 'Levenshtein <= 2'},\n",
       "  {'sql_condition': 'jaccard(\"surname_l\", \"surname_r\") >= 1',\n",
       "   'label_for_charts': 'Jaccard >= 1'},\n",
       "  {'sql_condition': 'ELSE', 'label_for_charts': 'All other comparisons'}],\n",
       " 'comparison_description': 'Exact match vs. Names with phonetic exact match vs. Surname within levenshtein threshold 2 vs. Surname within jaccard threshold 1 vs. anything else'}"
      ]
     },
     "execution_count": 8,
     "metadata": {},
     "output_type": "execute_result"
    }
   ],
   "source": [
    "surname_comparison.as_dict()"
   ]
  },
  {
   "attachments": {},
   "cell_type": "markdown",
   "metadata": {},
   "source": [
    "which can be used as the basis for a more custom comparison, as shown in the [Defining and Customising Comparisons topic guide ](customising_comparisons.ipynb#method-4-providing-the-spec-as-a-dictionary), if desired.\n",
    "\n",
    "<hr>"
   ]
  },
  {
   "attachments": {},
   "cell_type": "markdown",
   "metadata": {},
   "source": [
    "## Forename and Surname Comparisons\n",
    "\n",
    "It can be helpful to construct a single comparison for for comparing the forename and surname of two records as:\n",
    "\n",
    "1. The Fellegi-Sunter model **assumes that comparisons are independent**. We know that forename and surname are usually correlated given the regional variation of names etc, so considering then in a single comparison can help to create better models.\n",
    "\n",
    "2. **Term-frequencies** of individual forename and surname individually does not necessarily reflect how common the combination of forename and surname are. \n",
    "For example, in the UK population “Mohammed Khan” is a relatively common full name despite neither name occurring frequently. For more information on term-frequencies, see the dedicated [topic guide](term-frequency.md).\n",
    "Addressing forename and surname in a single comparison can allows the model to consider the joint term-frequency as well as individual.\n",
    "\n",
    "3. It is common for some records to have **swapped forename and surname by mistake**. Addressing forename and surname in a single comparison can allows the model to consider these name inversions.\n",
    "\n",
    "\n",
    "Forename and Surname comparisons for an individual name column (e.g. forename, surname) are generally structured as: \n",
    "\n",
    "- Null level  \n",
    "- Exact match Forename and Surname\n",
    "- Exact match Forename and Surname swapped\n",
    "- Exact match Surname\n",
    "- Exact match Forename\n",
    "- Fuzzy match Surname ([using metric of choice](comparators.md))\n",
    "- Fuzzy match Forename ([using metric of choice](comparators.md))\n",
    "- Else level\n",
    "\n",
    "The [comparison_template_library](#method-2-using-the-comparisontemplatelibrary) contains the [forename_surname_comparison](../comparison_template_library.md#splink.comparison_template_library.NameComparisonBase) function which gives this structure, with some pre-defined parameters, out-of-the-box."
   ]
  },
  {
   "cell_type": "code",
   "execution_count": 9,
   "metadata": {},
   "outputs": [],
   "source": [
    "from splink.duckdb.comparison_template_library import forename_surname_comparison\n",
    "\n",
    "name_comparison = forename_surname_comparison(\"forename\", \"surname\")"
   ]
  },
  {
   "attachments": {},
   "cell_type": "markdown",
   "metadata": {},
   "source": [
    "Gives a comparison structured as follows:\n",
    "\n",
    "```\n",
    "Comparison: First Name\n",
    "├─-- ComparisonLevel: Exact match Forename and Surname\n",
    "├─-- ComparisonLevel: Exact match Forename and Surname swapped\n",
    "├─-- ComparisonLevel: Exact match Surname\n",
    "├─-- ComparisonLevel: Exact match Forename\n",
    "├─-- ComparisonLevel: Surnames with Jaro-Winkler similarity greater than 0.88\n",
    "├─-- ComparisonLevel: Forenames with Jaro-Winkler similarity greater than 0.88\n",
    "├─-- ComparisonLevel: All other\n",
    "```\n",
    "\n",
    "Or, using `human_readable_description` to generate automatically from `first_name_comparison`:"
   ]
  },
  {
   "cell_type": "code",
   "execution_count": 10,
   "metadata": {},
   "outputs": [
    {
     "name": "stdout",
     "output_type": "stream",
     "text": [
      "Comparison 'Exact match vs. Forename and surname columns reversed vs. Surname exact match vs. Forename exact match vs. Surname within jaro-winkler threshold 0.88 vs. Forename within jaro-winkler threshold 0.88 vs. anything else' of \"surname\" and \"forename\".\n",
      "Similarity is assessed using the following ComparisonLevels:\n",
      "    - 'Null' with SQL rule: (\"forename_l\" IS NULL OR \"forename_r\" IS NULL) AND (\"surname_l\" IS NULL OR \"surname_r\" IS NULL)\n",
      "    - 'Full name exact match' with SQL rule: forename_l = forename_r AND surname_l = surname_r\n",
      "    - 'Exact match on reversed cols' with SQL rule: \"forename_l\" = \"surname_r\" and \"forename_r\" = \"surname_l\"\n",
      "    - 'Exact match surname' with SQL rule: \"surname_l\" = \"surname_r\"\n",
      "    - 'Exact match forename' with SQL rule: \"forename_l\" = \"forename_r\"\n",
      "    - 'Jaro_winkler_similarity surname >= 0.88' with SQL rule: jaro_winkler_similarity(\"surname_l\", \"surname_r\") >= 0.88\n",
      "    - 'Jaro_winkler_similarity forename >= 0.88' with SQL rule: jaro_winkler_similarity(\"forename_l\", \"forename_r\") >= 0.88\n",
      "    - 'All other comparisons' with SQL rule: ELSE\n",
      "\n"
     ]
    }
   ],
   "source": [
    "print(name_comparison.human_readable_description)"
   ]
  },
  {
   "attachments": {},
   "cell_type": "markdown",
   "metadata": {},
   "source": [
    "The [forename_surname_comparison](../comparison_template_library.md#splink.comparison_template_library.ForenameSurnameComparisonBase) function also allows flexibility to change the parameters and/or fuzzy matching comparison levels.\n",
    "\n",
    "For example:"
   ]
  },
  {
   "cell_type": "code",
   "execution_count": 11,
   "metadata": {},
   "outputs": [
    {
     "name": "stdout",
     "output_type": "stream",
     "text": [
      "Comparison 'Exact match vs. Phonetic match forename and surname vs. Forename and surname columns reversed vs. Surname exact match vs. Forename exact match vs. Surname within levenshtein threshold 2 vs. Surname within jaccard threshold 1 vs. Forename within levenshtein threshold 2 vs. Forename within jaccard threshold 1 vs. anything else' of \"surname\", \"forename\", \"surname_dm\" and \"forename_dm\".\n",
      "Similarity is assessed using the following ComparisonLevels:\n",
      "    - 'Null' with SQL rule: (\"forename_l\" IS NULL OR \"forename_r\" IS NULL) AND (\"surname_l\" IS NULL OR \"surname_r\" IS NULL)\n",
      "    - 'Full name exact match' with SQL rule: forename_l = forename_r AND surname_l = surname_r\n",
      "    - 'Full name phonetic match' with SQL rule: forename_dm_l = forename_dm_r AND surname_dm_l = surname_dm_r\n",
      "    - 'Exact match on reversed cols' with SQL rule: \"forename_l\" = \"surname_r\" and \"forename_r\" = \"surname_l\"\n",
      "    - 'Exact match surname' with SQL rule: \"surname_l\" = \"surname_r\"\n",
      "    - 'Exact match forename' with SQL rule: \"forename_l\" = \"forename_r\"\n",
      "    - 'Levenshtein surname <= 2' with SQL rule: levenshtein(\"surname_l\", \"surname_r\") <= 2\n",
      "    - 'Jaccard surname >= 1' with SQL rule: jaccard(\"surname_l\", \"surname_r\") >= 1\n",
      "    - 'Levenshtein forename <= 2' with SQL rule: levenshtein(\"forename_l\", \"forename_r\") <= 2\n",
      "    - 'Jaccard forename >= 1' with SQL rule: jaccard(\"forename_l\", \"forename_r\") >= 1\n",
      "    - 'All other comparisons' with SQL rule: ELSE\n",
      "\n"
     ]
    }
   ],
   "source": [
    "full_name_comparison = forename_surname_comparison(\n",
    "    \"forename\",\n",
    "    \"surname\",\n",
    "    term_frequency_adjustments=True,\n",
    "    tf_adjustment_col_forename_and_surname=\"full_name\",\n",
    "    phonetic_forename_col_name=\"forename_dm\",\n",
    "    phonetic_surname_col_name=\"surname_dm\",\n",
    "    levenshtein_thresholds=[2],\n",
    "    jaro_winkler_thresholds=[],\n",
    "    jaccard_thresholds=[1],\n",
    ")\n",
    "print(full_name_comparison.human_readable_description)"
   ]
  },
  {
   "attachments": {},
   "cell_type": "markdown",
   "metadata": {},
   "source": [
    "Where:\n",
    "\n",
    "- `forename_dm` and `surname_dm` refer to columns which have used the DoubleMetaphone algorithm on `forename` and `surname` to give a phonetic spelling. This helps to catch names which sounds the same but have different spellings (e.g. Stephens vs Stevens). For more on Phonetic Transformations, see the [topic guide](phonetic.md). These columns will have to already exist in the dataset, or be created in the [feature engineering](feature_engineering.md#phonetic-transformations) stage when preparing datasets for linking.\n",
    "\n",
    "- `full_name` is a column containing `forename` and `surname` so that the model can consider the term-frequency of the full name, as well as `forename` and `surname` individually. These columns will have to already exist in the dataset, or be created in the [feature engineering](feature_engineering.md#full-name) stage when preparing datasets for linking."
   ]
  },
  {
   "attachments": {},
   "cell_type": "markdown",
   "metadata": {},
   "source": [
    "To see this as a specifications dictionary you can call"
   ]
  },
  {
   "cell_type": "code",
   "execution_count": 12,
   "metadata": {},
   "outputs": [
    {
     "data": {
      "text/plain": [
       "{'output_column_name': 'custom_surname_forename_surname_dm_forename_dm',\n",
       " 'comparison_levels': [{'sql_condition': '(\"forename_l\" IS NULL OR \"forename_r\" IS NULL) AND (\"surname_l\" IS NULL OR \"surname_r\" IS NULL)',\n",
       "   'label_for_charts': 'Null',\n",
       "   'is_null_level': True},\n",
       "  {'sql_condition': 'forename_l = forename_r AND surname_l = surname_r',\n",
       "   'label_for_charts': 'Full name exact match',\n",
       "   'tf_adjustment_column': 'full_name',\n",
       "   'tf_adjustment_weight': 1.0},\n",
       "  {'sql_condition': 'forename_dm_l = forename_dm_r AND surname_dm_l = surname_dm_r',\n",
       "   'label_for_charts': 'Full name phonetic match',\n",
       "   'tf_adjustment_column': 'full_name',\n",
       "   'tf_adjustment_weight': 1.0},\n",
       "  {'sql_condition': '\"forename_l\" = \"surname_r\" and \"forename_r\" = \"surname_l\"',\n",
       "   'label_for_charts': 'Exact match on reversed cols',\n",
       "   'tf_adjustment_column': 'full_name',\n",
       "   'tf_adjustment_weight': 1.0},\n",
       "  {'sql_condition': '\"surname_l\" = \"surname_r\"',\n",
       "   'label_for_charts': 'Exact match surname',\n",
       "   'tf_adjustment_column': 'surname',\n",
       "   'tf_adjustment_weight': 1.0},\n",
       "  {'sql_condition': '\"forename_l\" = \"forename_r\"',\n",
       "   'label_for_charts': 'Exact match forename',\n",
       "   'tf_adjustment_column': 'forename',\n",
       "   'tf_adjustment_weight': 1.0},\n",
       "  {'sql_condition': 'levenshtein(\"surname_l\", \"surname_r\") <= 2',\n",
       "   'label_for_charts': 'Levenshtein surname <= 2'},\n",
       "  {'sql_condition': 'jaccard(\"surname_l\", \"surname_r\") >= 1',\n",
       "   'label_for_charts': 'Jaccard surname >= 1'},\n",
       "  {'sql_condition': 'levenshtein(\"forename_l\", \"forename_r\") <= 2',\n",
       "   'label_for_charts': 'Levenshtein forename <= 2'},\n",
       "  {'sql_condition': 'jaccard(\"forename_l\", \"forename_r\") >= 1',\n",
       "   'label_for_charts': 'Jaccard forename >= 1'},\n",
       "  {'sql_condition': 'ELSE', 'label_for_charts': 'All other comparisons'}],\n",
       " 'comparison_description': 'Exact match vs. Phonetic match forename and surname vs. Forename and surname columns reversed vs. Surname exact match vs. Forename exact match vs. Surname within levenshtein threshold 2 vs. Surname within jaccard threshold 1 vs. Forename within levenshtein threshold 2 vs. Forename within jaccard threshold 1 vs. anything else'}"
      ]
     },
     "execution_count": 12,
     "metadata": {},
     "output_type": "execute_result"
    }
   ],
   "source": [
    "full_name_comparison.as_dict()"
   ]
  },
  {
   "attachments": {},
   "cell_type": "markdown",
   "metadata": {},
   "source": [
    "Which can be used as the basis for a more custom comparison, as shown in the [Defining and Customising Comparisons topic guide ](customising_comparisons.ipynb#method-4-providing-the-spec-as-a-dictionary), if desired."
   ]
  },
  {
   "attachments": {},
   "cell_type": "markdown",
   "metadata": {},
   "source": [
    "<hr>"
   ]
  },
  {
   "attachments": {},
   "cell_type": "markdown",
   "metadata": {},
   "source": [
    "## Postcode Comparisons\n",
    "\n",
    "The [comparison_template_library](../comparison_template_library.md##splink.comparison_template_library) contains the [postcode_comparison](../comparison_template_library.md##splink.comparison_template_library.PostcodeComparisonBase) function which provides a sensible approach to comparing postcodes in terms of their constituent components, out-of-the-box. See [Feature Engineering](./feature_engineering.md) for more details."
   ]
  },
  {
   "cell_type": "code",
   "execution_count": 13,
   "metadata": {},
   "outputs": [],
   "source": [
    "from splink.duckdb.comparison_template_library import postcode_comparison\n",
    "\n",
    "pc_comparison = postcode_comparison(\"postcode\")"
   ]
  },
  {
   "attachments": {},
   "cell_type": "markdown",
   "metadata": {},
   "source": [
    "Gives a comparison structured as follows:\n",
    "\n",
    "```\n",
    "Comparison: Postcode\n",
    "├─-- ComparisonLevel: Exact match\n",
    "├─-- ComparisonLevel: Exact match on sector\n",
    "├─-- ComparisonLevel: Exact match on district\n",
    "├─-- ComparisonLevel: Exact match on area\n",
    "├─-- ComparisonLevel: All other\n",
    "```\n",
    "\n",
    "Or, using `human_readable_description` to generate automatically from `pc_comparison`:"
   ]
  },
  {
   "cell_type": "code",
   "execution_count": 14,
   "metadata": {},
   "outputs": [
    {
     "name": "stdout",
     "output_type": "stream",
     "text": [
      "Comparison 'Exact match on full postcode vs. exact match on sector vs. exact match on district vs. exact match on area vs. all other comparisons' of \"postcode\".\n",
      "Similarity is assessed using the following ComparisonLevels:\n",
      "    - 'Null' with SQL rule: \"postcode_l\" IS NULL OR \"postcode_r\" IS NULL\n",
      "    - 'Exact match postcode' with SQL rule: lower(\"postcode_l\") = lower(\"postcode_r\")\n",
      "    - 'Exact match Postcode Sector' with SQL rule: \n",
      "        regexp_extract(lower(\"postcode_l\"), '^[A-Za-z]{1,2}[0-9][A-Za-z0-9]? [0-9]')\n",
      "     = \n",
      "        regexp_extract(lower(\"postcode_r\"), '^[A-Za-z]{1,2}[0-9][A-Za-z0-9]? [0-9]')\n",
      "    \n",
      "    - 'Exact match Postcode District' with SQL rule: \n",
      "        regexp_extract(lower(\"postcode_l\"), '^[A-Za-z]{1,2}[0-9][A-Za-z0-9]?')\n",
      "     = \n",
      "        regexp_extract(lower(\"postcode_r\"), '^[A-Za-z]{1,2}[0-9][A-Za-z0-9]?')\n",
      "    \n",
      "    - 'Exact match Postcode Area' with SQL rule: \n",
      "        regexp_extract(lower(\"postcode_l\"), '^[A-Za-z]{1,2}')\n",
      "     = \n",
      "        regexp_extract(lower(\"postcode_r\"), '^[A-Za-z]{1,2}')\n",
      "    \n",
      "    - 'All other comparisons' with SQL rule: ELSE\n",
      "\n"
     ]
    }
   ],
   "source": [
    "print(pc_comparison.human_readable_description)"
   ]
  },
  {
   "attachments": {},
   "cell_type": "markdown",
   "metadata": {},
   "source": [
    "where individual postcode components are extracted under-the-hood using the `regex_extract` argument.\n",
    "\n",
    "Note that the 'Exact match Postcode District' level also captures matches on subdistricts where they exist in the data."
   ]
  },
  {
   "attachments": {},
   "cell_type": "markdown",
   "metadata": {},
   "source": [
    "Performing comparisons based on substrings alone doesn't always give the best sense of whether two postcodes are close together since locations which are geographically close can be in different postcode regions e.g. London postcodes starting 'N' vs 'SW'. Given this, the [postcode_comparison](../comparison_template_library.md##splink.comparison_template_library.PostcodeComparisonBase) function also allows the user flexibility to include [cll.distance_in_km_level()](../comparison_level_library.md#splink.comparison_level_library.DistanceFunctionLevelBase) by supplying `lat_col`, `long_col` and `km_thresholds` arguments. This can help to improve results. (See [Feature Enginnering](./feature_engineering.md) for more details.)\n",
    "\n",
    "Users also have the option to set `invalid_postcodes_as_null` to `True`. If `True`, postcodes that do not adhere to a valid postcode format as determined by `valid_postcode_regex` will be included in the null level. `valid_postcode_regex` defaults to `\"^[A-Z]{1,2}[0-9][A-Z0-9]? [0-9][A-Z]{2}$\"`.\n",
    "\n",
    "For example:"
   ]
  },
  {
   "cell_type": "code",
   "execution_count": 15,
   "metadata": {},
   "outputs": [
    {
     "name": "stdout",
     "output_type": "stream",
     "text": [
      "Comparison 'Exact match on full postcode vs. exact match on sector vs. exact match on district vs. exact match on area vs. Postcode within km_distance thresholds 1, 10, 50 vs. all other comparisons' of \"postcode\", \"long\" and \"lat\".\n",
      "Similarity is assessed using the following ComparisonLevels:\n",
      "    - 'Null' with SQL rule: \n",
      "        regexp_extract(\"postcode_l\", '^[A-Za-z]{1,2}[0-9][A-Za-z0-9]? [0-9][A-Za-z]{2}$')\n",
      "     IS NULL OR \n",
      "        regexp_extract(\"postcode_r\", '^[A-Za-z]{1,2}[0-9][A-Za-z0-9]? [0-9][A-Za-z]{2}$')\n",
      "     IS NULL OR\n",
      "                      \n",
      "        regexp_extract(\"postcode_l\", '^[A-Za-z]{1,2}[0-9][A-Za-z0-9]? [0-9][A-Za-z]{2}$')\n",
      "    =='' OR \n",
      "        regexp_extract(\"postcode_r\", '^[A-Za-z]{1,2}[0-9][A-Za-z0-9]? [0-9][A-Za-z]{2}$')\n",
      "     ==''\n",
      "    - 'Exact match postcode' with SQL rule: lower(\"postcode_l\") = lower(\"postcode_r\")\n",
      "    - 'Exact match Postcode Sector' with SQL rule: \n",
      "        regexp_extract(lower(\"postcode_l\"), '^[A-Za-z]{1,2}[0-9][A-Za-z0-9]? [0-9]')\n",
      "     = \n",
      "        regexp_extract(lower(\"postcode_r\"), '^[A-Za-z]{1,2}[0-9][A-Za-z0-9]? [0-9]')\n",
      "    \n",
      "    - 'Exact match Postcode District' with SQL rule: \n",
      "        regexp_extract(lower(\"postcode_l\"), '^[A-Za-z]{1,2}[0-9][A-Za-z0-9]?')\n",
      "     = \n",
      "        regexp_extract(lower(\"postcode_r\"), '^[A-Za-z]{1,2}[0-9][A-Za-z0-9]?')\n",
      "    \n",
      "    - 'Exact match Postcode Area' with SQL rule: \n",
      "        regexp_extract(lower(\"postcode_l\"), '^[A-Za-z]{1,2}')\n",
      "     = \n",
      "        regexp_extract(lower(\"postcode_r\"), '^[A-Za-z]{1,2}')\n",
      "    \n",
      "    - 'Distance less than 1km' with SQL rule: \n",
      "        \n",
      "        cast(\n",
      "            acos(\n",
      "                \n",
      "        case\n",
      "            when (\n",
      "        sin( radians(\"lat_l\") ) * sin( radians(\"lat_r\") ) +\n",
      "        cos( radians(\"lat_l\") ) * cos( radians(\"lat_r\") )\n",
      "            * cos( radians(\"long_r\" - \"long_l\") )\n",
      "    ) > 1 then 1\n",
      "            when (\n",
      "        sin( radians(\"lat_l\") ) * sin( radians(\"lat_r\") ) +\n",
      "        cos( radians(\"lat_l\") ) * cos( radians(\"lat_r\") )\n",
      "            * cos( radians(\"long_r\" - \"long_l\") )\n",
      "    ) < -1 then -1\n",
      "            else (\n",
      "        sin( radians(\"lat_l\") ) * sin( radians(\"lat_r\") ) +\n",
      "        cos( radians(\"lat_l\") ) * cos( radians(\"lat_r\") )\n",
      "            * cos( radians(\"long_r\" - \"long_l\") )\n",
      "    )\n",
      "        end\n",
      "    \n",
      "            ) * 6371\n",
      "            as float\n",
      "        )\n",
      "     <= 1\n",
      "        \n",
      "    - 'Distance less than 10km' with SQL rule: \n",
      "        \n",
      "        cast(\n",
      "            acos(\n",
      "                \n",
      "        case\n",
      "            when (\n",
      "        sin( radians(\"lat_l\") ) * sin( radians(\"lat_r\") ) +\n",
      "        cos( radians(\"lat_l\") ) * cos( radians(\"lat_r\") )\n",
      "            * cos( radians(\"long_r\" - \"long_l\") )\n",
      "    ) > 1 then 1\n",
      "            when (\n",
      "        sin( radians(\"lat_l\") ) * sin( radians(\"lat_r\") ) +\n",
      "        cos( radians(\"lat_l\") ) * cos( radians(\"lat_r\") )\n",
      "            * cos( radians(\"long_r\" - \"long_l\") )\n",
      "    ) < -1 then -1\n",
      "            else (\n",
      "        sin( radians(\"lat_l\") ) * sin( radians(\"lat_r\") ) +\n",
      "        cos( radians(\"lat_l\") ) * cos( radians(\"lat_r\") )\n",
      "            * cos( radians(\"long_r\" - \"long_l\") )\n",
      "    )\n",
      "        end\n",
      "    \n",
      "            ) * 6371\n",
      "            as float\n",
      "        )\n",
      "     <= 10\n",
      "        \n",
      "    - 'Distance less than 50km' with SQL rule: \n",
      "        \n",
      "        cast(\n",
      "            acos(\n",
      "                \n",
      "        case\n",
      "            when (\n",
      "        sin( radians(\"lat_l\") ) * sin( radians(\"lat_r\") ) +\n",
      "        cos( radians(\"lat_l\") ) * cos( radians(\"lat_r\") )\n",
      "            * cos( radians(\"long_r\" - \"long_l\") )\n",
      "    ) > 1 then 1\n",
      "            when (\n",
      "        sin( radians(\"lat_l\") ) * sin( radians(\"lat_r\") ) +\n",
      "        cos( radians(\"lat_l\") ) * cos( radians(\"lat_r\") )\n",
      "            * cos( radians(\"long_r\" - \"long_l\") )\n",
      "    ) < -1 then -1\n",
      "            else (\n",
      "        sin( radians(\"lat_l\") ) * sin( radians(\"lat_r\") ) +\n",
      "        cos( radians(\"lat_l\") ) * cos( radians(\"lat_r\") )\n",
      "            * cos( radians(\"long_r\" - \"long_l\") )\n",
      "    )\n",
      "        end\n",
      "    \n",
      "            ) * 6371\n",
      "            as float\n",
      "        )\n",
      "     <= 50\n",
      "        \n",
      "    - 'All other comparisons' with SQL rule: ELSE\n",
      "\n"
     ]
    }
   ],
   "source": [
    "pc_comparison = postcode_comparison(\n",
    "    \"postcode\",\n",
    "    invalid_postcodes_as_null=True,\n",
    "    lat_col=\"lat\",\n",
    "    long_col=\"long\",\n",
    "    km_thresholds=[1, 10, 50]\n",
    ")\n",
    "print(pc_comparison.human_readable_description)"
   ]
  },
  {
   "attachments": {},
   "cell_type": "markdown",
   "metadata": {},
   "source": [
    "To see this as a specifications dictionary you can call"
   ]
  },
  {
   "cell_type": "code",
   "execution_count": 16,
   "metadata": {},
   "outputs": [
    {
     "data": {
      "text/plain": [
       "{'output_column_name': 'postcode',\n",
       " 'comparison_levels': [{'sql_condition': '\\n        regexp_extract(\"postcode_l\", \\'^[A-Za-z]{1,2}[0-9][A-Za-z0-9]? [0-9][A-Za-z]{2}$\\')\\n     IS NULL OR \\n        regexp_extract(\"postcode_r\", \\'^[A-Za-z]{1,2}[0-9][A-Za-z0-9]? [0-9][A-Za-z]{2}$\\')\\n     IS NULL OR\\n                      \\n        regexp_extract(\"postcode_l\", \\'^[A-Za-z]{1,2}[0-9][A-Za-z0-9]? [0-9][A-Za-z]{2}$\\')\\n    ==\\'\\' OR \\n        regexp_extract(\"postcode_r\", \\'^[A-Za-z]{1,2}[0-9][A-Za-z0-9]? [0-9][A-Za-z]{2}$\\')\\n     ==\\'\\'',\n",
       "   'label_for_charts': 'Null',\n",
       "   'is_null_level': True},\n",
       "  {'sql_condition': 'lower(\"postcode_l\") = lower(\"postcode_r\")',\n",
       "   'label_for_charts': 'Exact match postcode'},\n",
       "  {'sql_condition': '\\n        regexp_extract(lower(\"postcode_l\"), \\'^[A-Za-z]{1,2}[0-9][A-Za-z0-9]? [0-9]\\')\\n     = \\n        regexp_extract(lower(\"postcode_r\"), \\'^[A-Za-z]{1,2}[0-9][A-Za-z0-9]? [0-9]\\')\\n    ',\n",
       "   'label_for_charts': 'Exact match Postcode Sector'},\n",
       "  {'sql_condition': '\\n        regexp_extract(lower(\"postcode_l\"), \\'^[A-Za-z]{1,2}[0-9][A-Za-z0-9]?\\')\\n     = \\n        regexp_extract(lower(\"postcode_r\"), \\'^[A-Za-z]{1,2}[0-9][A-Za-z0-9]?\\')\\n    ',\n",
       "   'label_for_charts': 'Exact match Postcode District'},\n",
       "  {'sql_condition': '\\n        regexp_extract(lower(\"postcode_l\"), \\'^[A-Za-z]{1,2}\\')\\n     = \\n        regexp_extract(lower(\"postcode_r\"), \\'^[A-Za-z]{1,2}\\')\\n    ',\n",
       "   'label_for_charts': 'Exact match Postcode Area'},\n",
       "  {'sql_condition': '\\n        \\n        cast(\\n            acos(\\n                \\n        case\\n            when (\\n        sin( radians(\"lat_l\") ) * sin( radians(\"lat_r\") ) +\\n        cos( radians(\"lat_l\") ) * cos( radians(\"lat_r\") )\\n            * cos( radians(\"long_r\" - \"long_l\") )\\n    ) > 1 then 1\\n            when (\\n        sin( radians(\"lat_l\") ) * sin( radians(\"lat_r\") ) +\\n        cos( radians(\"lat_l\") ) * cos( radians(\"lat_r\") )\\n            * cos( radians(\"long_r\" - \"long_l\") )\\n    ) < -1 then -1\\n            else (\\n        sin( radians(\"lat_l\") ) * sin( radians(\"lat_r\") ) +\\n        cos( radians(\"lat_l\") ) * cos( radians(\"lat_r\") )\\n            * cos( radians(\"long_r\" - \"long_l\") )\\n    )\\n        end\\n    \\n            ) * 6371\\n            as float\\n        )\\n     <= 1\\n        ',\n",
       "   'label_for_charts': 'Distance less than 1km'},\n",
       "  {'sql_condition': '\\n        \\n        cast(\\n            acos(\\n                \\n        case\\n            when (\\n        sin( radians(\"lat_l\") ) * sin( radians(\"lat_r\") ) +\\n        cos( radians(\"lat_l\") ) * cos( radians(\"lat_r\") )\\n            * cos( radians(\"long_r\" - \"long_l\") )\\n    ) > 1 then 1\\n            when (\\n        sin( radians(\"lat_l\") ) * sin( radians(\"lat_r\") ) +\\n        cos( radians(\"lat_l\") ) * cos( radians(\"lat_r\") )\\n            * cos( radians(\"long_r\" - \"long_l\") )\\n    ) < -1 then -1\\n            else (\\n        sin( radians(\"lat_l\") ) * sin( radians(\"lat_r\") ) +\\n        cos( radians(\"lat_l\") ) * cos( radians(\"lat_r\") )\\n            * cos( radians(\"long_r\" - \"long_l\") )\\n    )\\n        end\\n    \\n            ) * 6371\\n            as float\\n        )\\n     <= 10\\n        ',\n",
       "   'label_for_charts': 'Distance less than 10km'},\n",
       "  {'sql_condition': '\\n        \\n        cast(\\n            acos(\\n                \\n        case\\n            when (\\n        sin( radians(\"lat_l\") ) * sin( radians(\"lat_r\") ) +\\n        cos( radians(\"lat_l\") ) * cos( radians(\"lat_r\") )\\n            * cos( radians(\"long_r\" - \"long_l\") )\\n    ) > 1 then 1\\n            when (\\n        sin( radians(\"lat_l\") ) * sin( radians(\"lat_r\") ) +\\n        cos( radians(\"lat_l\") ) * cos( radians(\"lat_r\") )\\n            * cos( radians(\"long_r\" - \"long_l\") )\\n    ) < -1 then -1\\n            else (\\n        sin( radians(\"lat_l\") ) * sin( radians(\"lat_r\") ) +\\n        cos( radians(\"lat_l\") ) * cos( radians(\"lat_r\") )\\n            * cos( radians(\"long_r\" - \"long_l\") )\\n    )\\n        end\\n    \\n            ) * 6371\\n            as float\\n        )\\n     <= 50\\n        ',\n",
       "   'label_for_charts': 'Distance less than 50km'},\n",
       "  {'sql_condition': 'ELSE', 'label_for_charts': 'All other comparisons'}],\n",
       " 'comparison_description': 'Exact match on full postcode vs. exact match on sector vs. exact match on district vs. exact match on area vs. Postcode within km_distance thresholds 1, 10, 50 vs. all other comparisons'}"
      ]
     },
     "execution_count": 16,
     "metadata": {},
     "output_type": "execute_result"
    }
   ],
   "source": [
    "pc_comparison.as_dict()"
   ]
  },
  {
   "attachments": {},
   "cell_type": "markdown",
   "metadata": {},
   "source": [
    "which can be used as the basis for a more custom comparison, as shown in the [Defining and Customising Comparisons topic guide ](customising_comparisons.ipynb#method-4-providing-the-spec-as-a-dictionary), if desired."
   ]
  },
  {
   "attachments": {},
   "cell_type": "markdown",
   "metadata": {},
   "source": [
    "<hr>"
   ]
  },
  {
   "attachments": {},
   "cell_type": "markdown",
   "metadata": {},
   "source": [
    "## Email Comparisons\n",
    "\n",
    "Email comparisons are generally structured as:\n",
    "\n",
    "* Null Level\n",
    "* Exact match on email address\n",
    "* Exact match on username\n",
    "* Fuzzy match on email address\n",
    "* Fuzzy match on username\n",
    "* All other comparisons\n",
    "\n",
    "The [comparison_template_library](../comparison_template_library.md##splink.comparison_template_library) contains the [email_comparison](../comparison_template_library.md##splink.comparison_template_library.EmailComparisonBase) function which provides a sensible approach to comparing emails out-of-the-box."
   ]
  },
  {
   "cell_type": "code",
   "execution_count": 17,
   "metadata": {},
   "outputs": [],
   "source": [
    "from splink.duckdb.comparison_template_library import email_comparison\n",
    "\n",
    "standard_email_comparison = email_comparison(\"email\")"
   ]
  },
  {
   "attachments": {},
   "cell_type": "markdown",
   "metadata": {},
   "source": [
    "Gives a comparison structured as follows:\n",
    "\n",
    "```\n",
    "Comparison: Email\n",
    "├─-- ComparisonLevel: Exact match\n",
    "├─-- ComparisonLevel: Exact match on username with different domain\n",
    "├─-- ComparisonLevel: Fuzzy match on email using Jaro-Winkler\n",
    "├─-- ComparisonLevel: Fuzzy match on username using Jaro-Winkler\n",
    "├─-- ComparisonLevel: All other comparisons\n",
    "```\n",
    "\n",
    "Or, using `human_readable_description` to generate automatically from `email_comparison`:"
   ]
  },
  {
   "cell_type": "code",
   "execution_count": 18,
   "metadata": {},
   "outputs": [
    {
     "name": "stdout",
     "output_type": "stream",
     "text": [
      "Comparison 'Exact match vs. Exact username match different domain vs. Fuzzy Email within jaro_winkler threshold 0.88 vs. Fuzzy Username within jaro_winkler threshold 0.88 vs. anything else' of \"email\".\n",
      "Similarity is assessed using the following ComparisonLevels:\n",
      "    - 'Null' with SQL rule: \"email_l\" IS NULL OR \"email_r\" IS NULL\n",
      "    - 'Exact match email' with SQL rule: \"email_l\" = \"email_r\"\n",
      "    - 'Exact match email' with SQL rule: \n",
      "        regexp_extract(\"email_l\", '^[^@]+')\n",
      "     = \n",
      "        regexp_extract(\"email_r\", '^[^@]+')\n",
      "    \n",
      "    - 'Jaro_winkler_similarity email >= 0.88' with SQL rule: jaro_winkler_similarity(\"email_l\", \"email_r\") >= 0.88\n",
      "    - 'Jaro_winkler_similarity Username >= 0.88' with SQL rule: jaro_winkler_similarity(\n",
      "        regexp_extract(\"email_l\", '^[^@]+')\n",
      "    , \n",
      "        regexp_extract(\"email_r\", '^[^@]+')\n",
      "    ) >= 0.88\n",
      "    - 'All other comparisons' with SQL rule: ELSE\n",
      "\n"
     ]
    }
   ],
   "source": [
    "print(standard_email_comparison.human_readable_description)"
   ]
  },
  {
   "attachments": {},
   "cell_type": "markdown",
   "metadata": {},
   "source": [
    "where individual email components are extracted under-the-hood using the `regex_extract` argument."
   ]
  },
  {
   "attachments": {},
   "cell_type": "markdown",
   "metadata": {},
   "source": [
    "By default, the fuzzy matching is done using Jaro-Winkler thresholds. This will bias the start of a string, specifically the first four characters, which may not be appropriate for all emails. The `email_comparison` function is flexible and allows a number of other string fuzzy matching functions.\n",
    "\n",
    "Users also have the option to set `invalid_emails_as_null` to `True`. If `True`, postcodes that do not adhere to a valid email format as determined by `valid_email_regex` will be included in the null level. `valid_email_regex` defaults to `\"^[a-zA-Z0-9._%+-]+@[a-zA-Z0-9.-]+[.][a-zA-Z]{2,}$\"`.\n",
    "\n",
    "For example:"
   ]
  },
  {
   "cell_type": "code",
   "execution_count": 19,
   "metadata": {},
   "outputs": [
    {
     "name": "stdout",
     "output_type": "stream",
     "text": [
      "Comparison 'Exact match vs. Domain-only match vs.anything else' of \"email\".\n",
      "Similarity is assessed using the following ComparisonLevels:\n",
      "    - 'Null' with SQL rule: \n",
      "        regexp_extract(\"email_l\", '^[a-zA-Z0-9._%+-]+@[a-zA-Z0-9.-]+[.][a-zA-Z]{2,}$')\n",
      "     IS NULL OR \n",
      "        regexp_extract(\"email_r\", '^[a-zA-Z0-9._%+-]+@[a-zA-Z0-9.-]+[.][a-zA-Z]{2,}$')\n",
      "     IS NULL OR\n",
      "                      \n",
      "        regexp_extract(\"email_l\", '^[a-zA-Z0-9._%+-]+@[a-zA-Z0-9.-]+[.][a-zA-Z]{2,}$')\n",
      "    =='' OR \n",
      "        regexp_extract(\"email_r\", '^[a-zA-Z0-9._%+-]+@[a-zA-Z0-9.-]+[.][a-zA-Z]{2,}$')\n",
      "     ==''\n",
      "    - 'Exact match email' with SQL rule: \"email_l\" = \"email_r\"\n",
      "    - 'Jaro_similarity email >= 0.8' with SQL rule: jaro_similarity(\"email_l\", \"email_r\") >= 0.8\n",
      "    - 'Jaro_similarity email >= 0.8' with SQL rule: jaro_similarity(\"email_l\", \"email_r\") >= 0.8\n",
      "    - 'Exact match Email Domain' with SQL rule: \n",
      "        regexp_extract(\"email_l\", '@([^@]+)$')\n",
      "     = \n",
      "        regexp_extract(\"email_r\", '@([^@]+)$')\n",
      "    \n",
      "    - 'All other comparisons' with SQL rule: ELSE\n",
      "\n"
     ]
    }
   ],
   "source": [
    "bespoke_email_comparison = email_comparison(\n",
    "    \"email\",\n",
    "    jaro_winkler_thresholds=[],\n",
    "    jaro_thresholds=[0.8],\n",
    "    include_username_match_level=False,\n",
    "    include_domain_match_level=True,\n",
    "    invalid_emails_as_null=True,\n",
    ")\n",
    "print(bespoke_email_comparison.human_readable_description)"
   ]
  },
  {
   "attachments": {},
   "cell_type": "markdown",
   "metadata": {},
   "source": [
    "To see this as a specifications dictionary you can call"
   ]
  },
  {
   "cell_type": "code",
   "execution_count": 20,
   "metadata": {},
   "outputs": [
    {
     "data": {
      "text/plain": [
       "{'output_column_name': 'email',\n",
       " 'comparison_levels': [{'sql_condition': '\\n        regexp_extract(\"email_l\", \\'^[a-zA-Z0-9._%+-]+@[a-zA-Z0-9.-]+[.][a-zA-Z]{2,}$\\')\\n     IS NULL OR \\n        regexp_extract(\"email_r\", \\'^[a-zA-Z0-9._%+-]+@[a-zA-Z0-9.-]+[.][a-zA-Z]{2,}$\\')\\n     IS NULL OR\\n                      \\n        regexp_extract(\"email_l\", \\'^[a-zA-Z0-9._%+-]+@[a-zA-Z0-9.-]+[.][a-zA-Z]{2,}$\\')\\n    ==\\'\\' OR \\n        regexp_extract(\"email_r\", \\'^[a-zA-Z0-9._%+-]+@[a-zA-Z0-9.-]+[.][a-zA-Z]{2,}$\\')\\n     ==\\'\\'',\n",
       "   'label_for_charts': 'Null',\n",
       "   'is_null_level': True},\n",
       "  {'sql_condition': '\"email_l\" = \"email_r\"',\n",
       "   'label_for_charts': 'Exact match email'},\n",
       "  {'sql_condition': 'jaro_similarity(\"email_l\", \"email_r\") >= 0.8',\n",
       "   'label_for_charts': 'Jaro_similarity email >= 0.8'},\n",
       "  {'sql_condition': 'jaro_similarity(\"email_l\", \"email_r\") >= 0.8',\n",
       "   'label_for_charts': 'Jaro_similarity email >= 0.8'},\n",
       "  {'sql_condition': '\\n        regexp_extract(\"email_l\", \\'@([^@]+)$\\')\\n     = \\n        regexp_extract(\"email_r\", \\'@([^@]+)$\\')\\n    ',\n",
       "   'label_for_charts': 'Exact match Email Domain'},\n",
       "  {'sql_condition': 'ELSE', 'label_for_charts': 'All other comparisons'}],\n",
       " 'comparison_description': 'Exact match vs. Domain-only match vs.anything else'}"
      ]
     },
     "execution_count": 20,
     "metadata": {},
     "output_type": "execute_result"
    }
   ],
   "source": [
    "bespoke_email_comparison.as_dict()"
   ]
  },
  {
   "attachments": {},
   "cell_type": "markdown",
   "metadata": {},
   "source": [
    "which can be used as the basis for a more custom comparison, as shown in the [Defining and Customising Comparisons topic guide ](customising_comparisons.ipynb#method-4-providing-the-spec-as-a-dictionary), if desired."
   ]
  }
 ],
 "metadata": {
  "kernelspec": {
   "display_name": "base",
   "language": "python",
   "name": "python3"
  },
  "language_info": {
   "codemirror_mode": {
    "name": "ipython",
    "version": 3
   },
   "file_extension": ".py",
   "mimetype": "text/x-python",
   "name": "python",
   "nbconvert_exporter": "python",
   "pygments_lexer": "ipython3",
   "version": "3.9.12"
  },
  "orig_nbformat": 4
 },
 "nbformat": 4,
 "nbformat_minor": 2
}
